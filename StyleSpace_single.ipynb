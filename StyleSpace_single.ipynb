{
  "nbformat": 4,
  "nbformat_minor": 0,
  "metadata": {
    "colab": {
      "name": "StyleSpace_single.ipynb",
      "provenance": [],
      "include_colab_link": true
    },
    "kernelspec": {
      "name": "python3",
      "display_name": "Python 3"
    },
    "language_info": {
      "name": "python"
    },
    "accelerator": "GPU"
  },
  "cells": [
    {
      "cell_type": "markdown",
      "metadata": {
        "id": "view-in-github",
        "colab_type": "text"
      },
      "source": [
        "<a href=\"https://colab.research.google.com/github/Nimalesh/L2i/blob/main/StyleSpace_single.ipynb\" target=\"_parent\"><img src=\"https://colab.research.google.com/assets/colab-badge.svg\" alt=\"Open In Colab\"/></a>"
      ]
    },
    {
      "cell_type": "markdown",
      "metadata": {
        "id": "_Tl2tIrDQohU"
      },
      "source": [
        "# Single channel manipulation in S space"
      ]
    },
    {
      "cell_type": "code",
      "metadata": {
        "id": "VERMQoCcnF5D",
        "colab": {
          "base_uri": "https://localhost:8080/"
        },
        "outputId": "cb3c1727-b41c-4045-9215-4e79645ecac4"
      },
      "source": [
        "!git clone https://github.com/betterze/StyleSpace\n",
        "%cd StyleSpace\n",
        "\n"
      ],
      "execution_count": 4,
      "outputs": [
        {
          "output_type": "stream",
          "name": "stdout",
          "text": [
            "Cloning into 'StyleSpace'...\n",
            "remote: Enumerating objects: 346, done.\u001b[K\n",
            "remote: Counting objects: 100% (83/83), done.\u001b[K\n",
            "remote: Compressing objects: 100% (26/26), done.\u001b[K\n",
            "remote: Total 346 (delta 62), reused 57 (delta 57), pack-reused 263 (from 1)\u001b[K\n",
            "Receiving objects: 100% (346/346), 155.75 MiB | 26.02 MiB/s, done.\n",
            "Resolving deltas: 100% (138/138), done.\n",
            "Updating files: 100% (63/63), done.\n",
            "/content/StyleSpace/StyleSpace\n"
          ]
        }
      ]
    },
    {
      "cell_type": "markdown",
      "metadata": {
        "id": "IhPxKhG6Q6oa"
      },
      "source": [
        "# Select dataset\n",
        "If you want to use another dataset, please restart runtime."
      ]
    },
    {
      "cell_type": "code",
      "metadata": {
        "id": "qSPxMICz79U9",
        "colab": {
          "base_uri": "https://localhost:8080/",
          "height": 1000
        },
        "outputId": "1ae04890-5605-441b-b280-bcc3a88d8140"
      },
      "source": [
        "dataset_name='ffhq' #@param ['ffhq', 'car'] {allow-input: true}\n",
        "# input prepare data\n",
        "!python GetCode.py --dataset_name $dataset_name --code_type 'w'\n",
        "!python GetCode.py --dataset_name $dataset_name --code_type 's'\n",
        "!python GetCode.py --dataset_name $dataset_name --code_type 's_mean_std'\n",
        "\n",
        "from PIL import Image\n",
        "from manipulate import Manipulator\n",
        "M=Manipulator(dataset_name=dataset_name)"
      ],
      "execution_count": 5,
      "outputs": [
        {
          "output_type": "stream",
          "name": "stdout",
          "text": [
            "2025-05-06 20:28:23.401638: E external/local_xla/xla/stream_executor/cuda/cuda_fft.cc:477] Unable to register cuFFT factory: Attempting to register factory for plugin cuFFT when one has already been registered\n",
            "WARNING: All log messages before absl::InitializeLog() is called are written to STDERR\n",
            "E0000 00:00:1746563303.420621    1550 cuda_dnn.cc:8310] Unable to register cuDNN factory: Attempting to register factory for plugin cuDNN when one has already been registered\n",
            "E0000 00:00:1746563303.426384    1550 cuda_blas.cc:1418] Unable to register cuBLAS factory: Attempting to register factory for plugin cuBLAS when one has already been registered\n",
            "Traceback (most recent call last):\n",
            "  File \"/content/StyleSpace/StyleSpace/GetCode.py\", line 9, in <module>\n",
            "    from dnnlib import tflib  \n",
            "    ^^^^^^^^^^^^^^^^^^^^^^^^\n",
            "  File \"/content/StyleSpace/StyleSpace/dnnlib/tflib/__init__.py\", line 9, in <module>\n",
            "    from . import autosummary\n",
            "  File \"/content/StyleSpace/StyleSpace/dnnlib/tflib/autosummary.py\", line 32, in <module>\n",
            "    from . import tfutil\n",
            "  File \"/content/StyleSpace/StyleSpace/dnnlib/tflib/tfutil.py\", line 18, in <module>\n",
            "    import tensorflow.contrib   # requires TensorFlow 1.x!\n",
            "    ^^^^^^^^^^^^^^^^^^^^^^^^^\n",
            "ModuleNotFoundError: No module named 'tensorflow.contrib'\n",
            "2025-05-06 20:28:28.798588: E external/local_xla/xla/stream_executor/cuda/cuda_fft.cc:477] Unable to register cuFFT factory: Attempting to register factory for plugin cuFFT when one has already been registered\n",
            "WARNING: All log messages before absl::InitializeLog() is called are written to STDERR\n",
            "E0000 00:00:1746563308.817778    1583 cuda_dnn.cc:8310] Unable to register cuDNN factory: Attempting to register factory for plugin cuDNN when one has already been registered\n",
            "E0000 00:00:1746563308.823725    1583 cuda_blas.cc:1418] Unable to register cuBLAS factory: Attempting to register factory for plugin cuBLAS when one has already been registered\n",
            "Traceback (most recent call last):\n",
            "  File \"/content/StyleSpace/StyleSpace/GetCode.py\", line 9, in <module>\n",
            "    from dnnlib import tflib  \n",
            "    ^^^^^^^^^^^^^^^^^^^^^^^^\n",
            "  File \"/content/StyleSpace/StyleSpace/dnnlib/tflib/__init__.py\", line 9, in <module>\n",
            "    from . import autosummary\n",
            "  File \"/content/StyleSpace/StyleSpace/dnnlib/tflib/autosummary.py\", line 32, in <module>\n",
            "    from . import tfutil\n",
            "  File \"/content/StyleSpace/StyleSpace/dnnlib/tflib/tfutil.py\", line 18, in <module>\n",
            "    import tensorflow.contrib   # requires TensorFlow 1.x!\n",
            "    ^^^^^^^^^^^^^^^^^^^^^^^^^\n",
            "ModuleNotFoundError: No module named 'tensorflow.contrib'\n",
            "2025-05-06 20:28:33.538513: E external/local_xla/xla/stream_executor/cuda/cuda_fft.cc:477] Unable to register cuFFT factory: Attempting to register factory for plugin cuFFT when one has already been registered\n",
            "WARNING: All log messages before absl::InitializeLog() is called are written to STDERR\n",
            "E0000 00:00:1746563313.557492    1613 cuda_dnn.cc:8310] Unable to register cuDNN factory: Attempting to register factory for plugin cuDNN when one has already been registered\n",
            "E0000 00:00:1746563313.563324    1613 cuda_blas.cc:1418] Unable to register cuBLAS factory: Attempting to register factory for plugin cuBLAS when one has already been registered\n",
            "Traceback (most recent call last):\n",
            "  File \"/content/StyleSpace/StyleSpace/GetCode.py\", line 9, in <module>\n",
            "    from dnnlib import tflib  \n",
            "    ^^^^^^^^^^^^^^^^^^^^^^^^\n",
            "  File \"/content/StyleSpace/StyleSpace/dnnlib/tflib/__init__.py\", line 9, in <module>\n",
            "    from . import autosummary\n",
            "  File \"/content/StyleSpace/StyleSpace/dnnlib/tflib/autosummary.py\", line 32, in <module>\n",
            "    from . import tfutil\n",
            "  File \"/content/StyleSpace/StyleSpace/dnnlib/tflib/tfutil.py\", line 18, in <module>\n",
            "    import tensorflow.contrib   # requires TensorFlow 1.x!\n",
            "    ^^^^^^^^^^^^^^^^^^^^^^^^^\n",
            "ModuleNotFoundError: No module named 'tensorflow.contrib'\n"
          ]
        },
        {
          "output_type": "error",
          "ename": "ModuleNotFoundError",
          "evalue": "No module named 'tensorflow.contrib'",
          "traceback": [
            "\u001b[0;31m---------------------------------------------------------------------------\u001b[0m",
            "\u001b[0;31mModuleNotFoundError\u001b[0m                       Traceback (most recent call last)",
            "\u001b[0;32m<ipython-input-5-c58b06ccd865>\u001b[0m in \u001b[0;36m<cell line: 0>\u001b[0;34m()\u001b[0m\n\u001b[1;32m      6\u001b[0m \u001b[0;34m\u001b[0m\u001b[0m\n\u001b[1;32m      7\u001b[0m \u001b[0;32mfrom\u001b[0m \u001b[0mPIL\u001b[0m \u001b[0;32mimport\u001b[0m \u001b[0mImage\u001b[0m\u001b[0;34m\u001b[0m\u001b[0;34m\u001b[0m\u001b[0m\n\u001b[0;32m----> 8\u001b[0;31m \u001b[0;32mfrom\u001b[0m \u001b[0mmanipulate\u001b[0m \u001b[0;32mimport\u001b[0m \u001b[0mManipulator\u001b[0m\u001b[0;34m\u001b[0m\u001b[0;34m\u001b[0m\u001b[0m\n\u001b[0m\u001b[1;32m      9\u001b[0m \u001b[0mM\u001b[0m\u001b[0;34m=\u001b[0m\u001b[0mManipulator\u001b[0m\u001b[0;34m(\u001b[0m\u001b[0mdataset_name\u001b[0m\u001b[0;34m=\u001b[0m\u001b[0mdataset_name\u001b[0m\u001b[0;34m)\u001b[0m\u001b[0;34m\u001b[0m\u001b[0;34m\u001b[0m\u001b[0m\n",
            "\u001b[0;32m/content/StyleSpace/StyleSpace/manipulate.py\u001b[0m in \u001b[0;36m<module>\u001b[0;34m\u001b[0m\n\u001b[1;32m      6\u001b[0m \u001b[0;32mimport\u001b[0m \u001b[0mnumpy\u001b[0m \u001b[0;32mas\u001b[0m \u001b[0mnp\u001b[0m\u001b[0;34m\u001b[0m\u001b[0;34m\u001b[0m\u001b[0m\n\u001b[1;32m      7\u001b[0m \u001b[0;32mimport\u001b[0m \u001b[0mtensorflow\u001b[0m \u001b[0;32mas\u001b[0m \u001b[0mtf\u001b[0m\u001b[0;34m\u001b[0m\u001b[0;34m\u001b[0m\u001b[0m\n\u001b[0;32m----> 8\u001b[0;31m \u001b[0;32mfrom\u001b[0m \u001b[0mdnnlib\u001b[0m \u001b[0;32mimport\u001b[0m \u001b[0mtflib\u001b[0m\u001b[0;34m\u001b[0m\u001b[0;34m\u001b[0m\u001b[0m\n\u001b[0m\u001b[1;32m      9\u001b[0m \u001b[0;32mfrom\u001b[0m \u001b[0mutils\u001b[0m\u001b[0;34m.\u001b[0m\u001b[0mvisualizer\u001b[0m \u001b[0;32mimport\u001b[0m \u001b[0mHtmlPageVisualizer\u001b[0m\u001b[0;34m\u001b[0m\u001b[0;34m\u001b[0m\u001b[0m\n\u001b[1;32m     10\u001b[0m \u001b[0;34m\u001b[0m\u001b[0m\n",
            "\u001b[0;32m/content/StyleSpace/dnnlib/tflib/__init__.py\u001b[0m in \u001b[0;36m<module>\u001b[0;34m\u001b[0m\n\u001b[1;32m      7\u001b[0m \u001b[0;31m# license agreement from NVIDIA CORPORATION is strictly prohibited.\u001b[0m\u001b[0;34m\u001b[0m\u001b[0;34m\u001b[0m\u001b[0m\n\u001b[1;32m      8\u001b[0m \u001b[0;34m\u001b[0m\u001b[0m\n\u001b[0;32m----> 9\u001b[0;31m \u001b[0;32mfrom\u001b[0m \u001b[0;34m.\u001b[0m \u001b[0;32mimport\u001b[0m \u001b[0mautosummary\u001b[0m\u001b[0;34m\u001b[0m\u001b[0;34m\u001b[0m\u001b[0m\n\u001b[0m\u001b[1;32m     10\u001b[0m \u001b[0;32mfrom\u001b[0m \u001b[0;34m.\u001b[0m \u001b[0;32mimport\u001b[0m \u001b[0mnetwork\u001b[0m\u001b[0;34m\u001b[0m\u001b[0;34m\u001b[0m\u001b[0m\n\u001b[1;32m     11\u001b[0m \u001b[0;32mfrom\u001b[0m \u001b[0;34m.\u001b[0m \u001b[0;32mimport\u001b[0m \u001b[0moptimizer\u001b[0m\u001b[0;34m\u001b[0m\u001b[0;34m\u001b[0m\u001b[0m\n",
            "\u001b[0;32m/content/StyleSpace/dnnlib/tflib/autosummary.py\u001b[0m in \u001b[0;36m<module>\u001b[0;34m\u001b[0m\n\u001b[1;32m     30\u001b[0m \u001b[0;32mfrom\u001b[0m \u001b[0mtensorboard\u001b[0m\u001b[0;34m.\u001b[0m\u001b[0mplugins\u001b[0m\u001b[0;34m.\u001b[0m\u001b[0mcustom_scalar\u001b[0m \u001b[0;32mimport\u001b[0m \u001b[0mlayout_pb2\u001b[0m\u001b[0;34m\u001b[0m\u001b[0;34m\u001b[0m\u001b[0m\n\u001b[1;32m     31\u001b[0m \u001b[0;34m\u001b[0m\u001b[0m\n\u001b[0;32m---> 32\u001b[0;31m \u001b[0;32mfrom\u001b[0m \u001b[0;34m.\u001b[0m \u001b[0;32mimport\u001b[0m \u001b[0mtfutil\u001b[0m\u001b[0;34m\u001b[0m\u001b[0;34m\u001b[0m\u001b[0m\n\u001b[0m\u001b[1;32m     33\u001b[0m \u001b[0;32mfrom\u001b[0m \u001b[0;34m.\u001b[0m\u001b[0mtfutil\u001b[0m \u001b[0;32mimport\u001b[0m \u001b[0mTfExpression\u001b[0m\u001b[0;34m\u001b[0m\u001b[0;34m\u001b[0m\u001b[0m\n\u001b[1;32m     34\u001b[0m \u001b[0;32mfrom\u001b[0m \u001b[0;34m.\u001b[0m\u001b[0mtfutil\u001b[0m \u001b[0;32mimport\u001b[0m \u001b[0mTfExpressionEx\u001b[0m\u001b[0;34m\u001b[0m\u001b[0;34m\u001b[0m\u001b[0m\n",
            "\u001b[0;32m/content/StyleSpace/dnnlib/tflib/tfutil.py\u001b[0m in \u001b[0;36m<module>\u001b[0;34m\u001b[0m\n\u001b[1;32m     16\u001b[0m \u001b[0;32mimport\u001b[0m \u001b[0mlogging\u001b[0m\u001b[0;34m\u001b[0m\u001b[0;34m\u001b[0m\u001b[0m\n\u001b[1;32m     17\u001b[0m \u001b[0mlogging\u001b[0m\u001b[0;34m.\u001b[0m\u001b[0mgetLogger\u001b[0m\u001b[0;34m(\u001b[0m\u001b[0;34m'tensorflow'\u001b[0m\u001b[0;34m)\u001b[0m\u001b[0;34m.\u001b[0m\u001b[0msetLevel\u001b[0m\u001b[0;34m(\u001b[0m\u001b[0mlogging\u001b[0m\u001b[0;34m.\u001b[0m\u001b[0mERROR\u001b[0m\u001b[0;34m)\u001b[0m\u001b[0;34m\u001b[0m\u001b[0;34m\u001b[0m\u001b[0m\n\u001b[0;32m---> 18\u001b[0;31m \u001b[0;32mimport\u001b[0m \u001b[0mtensorflow\u001b[0m\u001b[0;34m.\u001b[0m\u001b[0mcontrib\u001b[0m   \u001b[0;31m# requires TensorFlow 1.x!\u001b[0m\u001b[0;34m\u001b[0m\u001b[0;34m\u001b[0m\u001b[0m\n\u001b[0m\u001b[1;32m     19\u001b[0m \u001b[0mtf\u001b[0m\u001b[0;34m.\u001b[0m\u001b[0mcontrib\u001b[0m \u001b[0;34m=\u001b[0m \u001b[0mtensorflow\u001b[0m\u001b[0;34m.\u001b[0m\u001b[0mcontrib\u001b[0m\u001b[0;34m\u001b[0m\u001b[0;34m\u001b[0m\u001b[0m\n\u001b[1;32m     20\u001b[0m \u001b[0;34m\u001b[0m\u001b[0m\n",
            "\u001b[0;31mModuleNotFoundError\u001b[0m: No module named 'tensorflow.contrib'",
            "",
            "\u001b[0;31m---------------------------------------------------------------------------\u001b[0;32m\nNOTE: If your import is failing due to a missing package, you can\nmanually install dependencies using either !pip or !apt.\n\nTo view examples of installing some common dependencies, click the\n\"Open Examples\" button below.\n\u001b[0;31m---------------------------------------------------------------------------\u001b[0m\n"
          ],
          "errorDetails": {
            "actions": [
              {
                "action": "open_url",
                "actionText": "Open Examples",
                "url": "/notebooks/snippets/importing_libraries.ipynb"
              }
            ]
          }
        }
      ]
    },
    {
      "cell_type": "markdown",
      "metadata": {
        "id": "W1aDyWYtRnk-"
      },
      "source": [
        "# Single channel annotation\n"
      ]
    },
    {
      "cell_type": "code",
      "metadata": {
        "id": "-t1KqqnBEJXe"
      },
      "source": [
        "# (layer index, channel index)\n",
        "\n",
        " # StyleGAN2 FFHQ\n",
        "configs_ffhq = {\n",
        "    'black hair' :      [(12, 479)],\n",
        "    'blond hair ':      [(12, 479), (12, 266)],\n",
        "    'grey hair ' :      [(11, 286)],\n",
        "    'wavy hair'  :      [(6, 500), (8, 128), (5, 92), (6, 394), (6, 323)],\n",
        "    'bangs'      :      [(3, 259), (6, 285), (5, 414), (6, 128), (9, 295), (6, 322), (6, 487), (6, 504)],\n",
        "    'receding hairline':[(5, 414), (6, 322), (6, 497), (6, 504)],\n",
        "    'smiling'    :      [(6, 501)],\n",
        "    'lipstick'   :      [(15, 45)],\n",
        "    'sideburns'  :      [(12, 237)],\n",
        "    'goatee'     :      [(9, 421)],\n",
        "    'earrings'   :      [(8, 81)],\n",
        "    'glasses'    :      [(3, 288), (2, 175), (3, 120), (2, 97)],\n",
        "    'wear suit'  :      [(9, 441), (8, 292), (11, 358), (6, 223)],\n",
        "    'gender'     :      [(9, 6)]\n",
        "}\n",
        "\n",
        "# StyleGAN2 Car\n",
        "configs_car = {\n",
        "    'front'      :      [(8, 411)],\n",
        "    'headlights' :      [(8, 441), (9, 355)],\n",
        "    'grill'      :      [(9, 191)],\n",
        "     'trees'     :      [(9, 108)],\n",
        "     'grass'     :      [(12, 107)],\n",
        "     'sky'       :      [(12, 76)],\n",
        "\n",
        "     'hubcap'    :      [(12, 113), (12, 439)],\n",
        "     'car color' :      [(12, 142), (15, 227)],\n",
        "     'logo'      :      [(9, 185)],\n",
        "     'wheel angle':     [8, 420],\n",
        "}\n"
      ],
      "execution_count": 6,
      "outputs": []
    },
    {
      "cell_type": "markdown",
      "metadata": {
        "id": "HCYO8sWpRwgN"
      },
      "source": [
        "# choose attribute\n",
        "To mainipulate an specific attribute, please copy the corresponding (layer index, channel index) from above tables and paste in (lindex,cindex) in the next cell"
      ]
    },
    {
      "cell_type": "code",
      "metadata": {
        "id": "nt8AG8Tk8HqM",
        "colab": {
          "base_uri": "https://localhost:8080/",
          "height": 233
        },
        "outputId": "58cd3f2c-0ba3-4105-8065-a8b2491dfd50"
      },
      "source": [
        "\n",
        "alpha = 0 #@param {type:\"slider\", min:-10, max:10, step:0.1}\n",
        "M.alpha=[alpha] #manipulation strength\n",
        "M.img_index=1   #index for different images\n",
        "M.num_images=1\n",
        "lindex,cindex=9, 6 #(layer index, channel index), please copy from configs in above\n",
        "\n",
        "M.manipulate_layers=[lindex]\n",
        "codes,out=M.EditOneC(cindex)\n",
        "Image.fromarray(out[0,0])\n"
      ],
      "execution_count": 7,
      "outputs": [
        {
          "output_type": "error",
          "ename": "NameError",
          "evalue": "name 'M' is not defined",
          "traceback": [
            "\u001b[0;31m---------------------------------------------------------------------------\u001b[0m",
            "\u001b[0;31mNameError\u001b[0m                                 Traceback (most recent call last)",
            "\u001b[0;32m<ipython-input-7-d98d654eec95>\u001b[0m in \u001b[0;36m<cell line: 0>\u001b[0;34m()\u001b[0m\n\u001b[1;32m      1\u001b[0m \u001b[0malpha\u001b[0m \u001b[0;34m=\u001b[0m \u001b[0;36m0\u001b[0m \u001b[0;31m#@param {type:\"slider\", min:-10, max:10, step:0.1}\u001b[0m\u001b[0;34m\u001b[0m\u001b[0;34m\u001b[0m\u001b[0m\n\u001b[0;32m----> 2\u001b[0;31m \u001b[0mM\u001b[0m\u001b[0;34m.\u001b[0m\u001b[0malpha\u001b[0m\u001b[0;34m=\u001b[0m\u001b[0;34m[\u001b[0m\u001b[0malpha\u001b[0m\u001b[0;34m]\u001b[0m \u001b[0;31m#manipulation strength\u001b[0m\u001b[0;34m\u001b[0m\u001b[0;34m\u001b[0m\u001b[0m\n\u001b[0m\u001b[1;32m      3\u001b[0m \u001b[0mM\u001b[0m\u001b[0;34m.\u001b[0m\u001b[0mimg_index\u001b[0m\u001b[0;34m=\u001b[0m\u001b[0;36m1\u001b[0m   \u001b[0;31m#index for different images\u001b[0m\u001b[0;34m\u001b[0m\u001b[0;34m\u001b[0m\u001b[0m\n\u001b[1;32m      4\u001b[0m \u001b[0mM\u001b[0m\u001b[0;34m.\u001b[0m\u001b[0mnum_images\u001b[0m\u001b[0;34m=\u001b[0m\u001b[0;36m1\u001b[0m\u001b[0;34m\u001b[0m\u001b[0;34m\u001b[0m\u001b[0m\n\u001b[1;32m      5\u001b[0m \u001b[0mlindex\u001b[0m\u001b[0;34m,\u001b[0m\u001b[0mcindex\u001b[0m\u001b[0;34m=\u001b[0m\u001b[0;36m9\u001b[0m\u001b[0;34m,\u001b[0m \u001b[0;36m6\u001b[0m \u001b[0;31m#(layer index, channel index), please copy from configs in above\u001b[0m\u001b[0;34m\u001b[0m\u001b[0;34m\u001b[0m\u001b[0m\n",
            "\u001b[0;31mNameError\u001b[0m: name 'M' is not defined"
          ]
        }
      ]
    },
    {
      "cell_type": "code",
      "metadata": {
        "id": "ZB5IqqZo97E5"
      },
      "source": [],
      "execution_count": null,
      "outputs": []
    },
    {
      "cell_type": "code",
      "metadata": {
        "id": "CLFpuXon-9y7"
      },
      "source": [],
      "execution_count": null,
      "outputs": []
    }
  ]
}